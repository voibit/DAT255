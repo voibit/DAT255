{
 "cells": [
  {
   "cell_type": "code",
   "execution_count": 44,
   "id": "0bbd320e-f5c9-48f4-99dc-d65ab8c55119",
   "metadata": {},
   "outputs": [],
   "source": [
    "import torch\n",
    "import torchaudio\n",
    "from torchaudio.transforms import Resample as Resample\n",
    "from pathlib import Path, PurePath\n",
    "from fastai.vision.all import *"
   ]
  },
  {
   "cell_type": "markdown",
   "id": "9da38269-21a4-452c-844f-8dc3affa9b58",
   "metadata": {},
   "source": [
    "# Resample\n",
    "Reample ShipsEar into 32000, so we can train with deep ship"
   ]
  },
  {
   "cell_type": "code",
   "execution_count": 2,
   "id": "262aecae-2d79-4390-b88c-336ae5aa79e1",
   "metadata": {},
   "outputs": [
    {
     "name": "stdout",
     "output_type": "stream",
     "text": [
      "1.10.2\n",
      "0.10.2\n"
     ]
    }
   ],
   "source": [
    "print(torch.__version__)\n",
    "print(torchaudio.__version__)"
   ]
  },
  {
   "cell_type": "code",
   "execution_count": 12,
   "id": "fd315e43-5eff-4207-ac3e-7f0d28b65b97",
   "metadata": {},
   "outputs": [
    {
     "data": {
      "text/plain": [
       "(#90) [Path('shipsEar_AUDIOS/49__23_07_13_H1_bateero4.wav'),Path('shipsEar_AUDIOS/18__18_07_13_AutoPrideEntra.wav'),Path('shipsEar_AUDIOS/48__23_07_13_H3_bateero3_interf.wav'),Path('shipsEar_AUDIOS/76__23_07_13_H3_pesquero2.wav'),Path('shipsEar_AUDIOS/9__10_07_13_marDeOnza_Espera.wav'),Path('shipsEar_AUDIOS/16__10_07_13_mscOpera_InicioSalida.wav'),Path('shipsEar_AUDIOS/83__27_09_13_H3_oleaje.wav'),Path('shipsEar_AUDIOS/69__23_07_13_H2_costaVoyager.wav'),Path('shipsEar_AUDIOS/57__23_07_13_H3_velero2.wav'),Path('shipsEar_AUDIOS/64__23_07_13_H3_MarDeOnza_SALE.wav')...]"
      ]
     },
     "execution_count": 12,
     "metadata": {},
     "output_type": "execute_result"
    }
   ],
   "source": [
    "# ShipsEar Dataset\n",
    "path = Path('shipsEar_AUDIOS/')\n",
    "dest = Path('shipsEarRe/')\n",
    "fns = get_files(path,'.wav')\n",
    "fns"
   ]
  },
  {
   "cell_type": "code",
   "execution_count": 65,
   "id": "597405ca-ac10-488c-a694-837f086f4d30",
   "metadata": {},
   "outputs": [],
   "source": [
    "### Pytorch transform kernel\n",
    "sample_rate = 44100\n",
    "resample_rate = 32000\n",
    "\n",
    "krn  = Resample(\n",
    "    sample_rate,\n",
    "    resample_rate,\n",
    "    lowpass_filter_width=64,\n",
    "    rolloff=0.9475937167399596,\n",
    "    resampling_method=\"kaiser_window\",\n",
    "    beta=14.769656459379492)"
   ]
  },
  {
   "cell_type": "code",
   "execution_count": 66,
   "id": "36afcad0-d8ab-4631-944a-55b6d4958a18",
   "metadata": {},
   "outputs": [],
   "source": [
    "def convert(p: Path):\n",
    "    waveform,sr = torchaudio.load(p)\n",
    "    \n",
    "    if sr != sample_rate: return\n",
    "    print(p)\n",
    "    ### kaiser_best\n",
    "    resampled_waveform = krn(waveform)\n",
    "    torchaudio.save(dest/p, resampled_waveform, resample_rate)\n"
   ]
  },
  {
   "cell_type": "code",
   "execution_count": 69,
   "id": "e1efd3f1-d923-4e8a-a399-1ddf403b5b9b",
   "metadata": {},
   "outputs": [
    {
     "name": "stdout",
     "output_type": "stream",
     "text": [
      "shipsEar_AUDIOS/38__19_07_13_Arroios_Sale_2entran.wav\n",
      "shipsEar_AUDIOS/41__19_07_13_MiñoUno_Entra.wav\n",
      "shipsEar_AUDIOS/39__19_07_13_lanchaMotora_Entra.wav\n",
      "shipsEar_AUDIOS/43__19_07_13_PirataDeCies_Llega_Interf.wav\n",
      "shipsEar_AUDIOS/42__19_07_13_PirataCies_Sale.wav\n",
      "shipsEar_AUDIOS/45__19_07_13_yate_Sale.wav\n",
      "shipsEar_AUDIOS/40__19_07_13_MarDeCangas_Llega_Interf.wav\n"
     ]
    }
   ],
   "source": [
    "Path(PurePath(dest/fns[0]).parent).mkdir(exist_ok=True)\n",
    "for p in fns: \n",
    "    convert(p)"
   ]
  }
 ],
 "metadata": {
  "kernelspec": {
   "display_name": "Python 3 (ipykernel)",
   "language": "python",
   "name": "python3"
  },
  "language_info": {
   "codemirror_mode": {
    "name": "ipython",
    "version": 3
   },
   "file_extension": ".py",
   "mimetype": "text/x-python",
   "name": "python",
   "nbconvert_exporter": "python",
   "pygments_lexer": "ipython3",
   "version": "3.9.7"
  }
 },
 "nbformat": 4,
 "nbformat_minor": 5
}
