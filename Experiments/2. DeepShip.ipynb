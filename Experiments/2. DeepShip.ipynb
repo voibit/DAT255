{
 "cells": [
  {
   "cell_type": "code",
   "execution_count": 1,
   "id": "aba8c042-97e6-4841-bc91-9de0fc6b2ce5",
   "metadata": {},
   "outputs": [],
   "source": [
    "from fastai.vision.all import *\n",
    "from fastbook import *\n",
    "from fastai.vision.widgets import *\n"
   ]
  },
  {
   "cell_type": "markdown",
   "id": "875384f9-fdf2-4c95-be68-2f43758de2ce",
   "metadata": {},
   "source": [
    "# Exploring the data\n",
    "The DeepShip dataset is downloaded from google drive, and extracted to the DeepShip folder manually."
   ]
  },
  {
   "cell_type": "code",
   "execution_count": 2,
   "id": "8b78ef40-463a-42cf-b677-13346e693991",
   "metadata": {},
   "outputs": [],
   "source": [
    "Path.absolute = './'\n",
    "path = Path('DeepShip')"
   ]
  },
  {
   "cell_type": "markdown",
   "id": "dfd679b9-2789-4ddf-84e4-9138d69ec976",
   "metadata": {},
   "source": [
    "List folders inside dataset"
   ]
  },
  {
   "cell_type": "code",
   "execution_count": 3,
   "id": "93d3dce5-e542-4b35-81b1-af5a3c5bc9f0",
   "metadata": {},
   "outputs": [
    {
     "data": {
      "text/plain": [
       "['Tug', 'Cargo', 'Tanker', 'Passengership']"
      ]
     },
     "execution_count": 3,
     "metadata": {},
     "output_type": "execute_result"
    }
   ],
   "source": [
    "classes = [f for f in os.listdir(path) if os.path.isdir(Path(path/f))]\n",
    "classes"
   ]
  },
  {
   "cell_type": "markdown",
   "id": "e222d879-2dfc-4186-96c9-adfac3b14934",
   "metadata": {},
   "source": [
    "Get all sound files, to see if we can label based on their path."
   ]
  },
  {
   "cell_type": "code",
   "execution_count": 4,
   "id": "6bb19cdc-fdb4-456b-ac5c-40c7a4420e86",
   "metadata": {},
   "outputs": [
    {
     "data": {
      "text/plain": [
       "(#609) [Path('DeepShip/Tug/20171202-37/071515.wav'),Path('DeepShip/Tug/20171106a-5/162112.wav'),Path('DeepShip/Tug/20171217a-59/050224.wav'),Path('DeepShip/Tug/20171118c-15/185844.wav'),Path('DeepShip/Tug/20171219a-60/210546.wav'),Path('DeepShip/Tug/20171202a-38/145149.wav'),Path('DeepShip/Tug/20171229b-68/200347.wav'),Path('DeepShip/Tug/20171124-22/012051.wav'),Path('DeepShip/Tug/20171223b-63/233721.wav'),Path('DeepShip/Tug/20171118b-14/161506.wav')...]"
      ]
     },
     "execution_count": 4,
     "metadata": {},
     "output_type": "execute_result"
    }
   ],
   "source": [
    "fns = get_files(path,'.wav')\n",
    "fns"
   ]
  },
  {
   "cell_type": "markdown",
   "id": "10c9a91a-6940-487d-ba42-a8091ebb0f6b",
   "metadata": {},
   "source": [
    "Sound files is stored inside timestamped id foldes `date-id`, inside label folders `Label`. <br>\n",
    "The sound filenames vary a bit but they are orgianized more or less in ths form `Label\\date-id\\time.wav`\n",
    "<br>We can now write a simple label function based on parent folders."
   ]
  },
  {
   "cell_type": "markdown",
   "id": "f32c0274-4090-4621-a7be-b68749ed3c6d",
   "metadata": {},
   "source": [
    "## Adding some labelfunctions, based on path and parent folder"
   ]
  },
  {
   "cell_type": "code",
   "execution_count": null,
   "id": "e371c679-52a2-4623-8009-c1bf0d6cb96f",
   "metadata": {},
   "outputs": [],
   "source": [
    "def label_func(p : Path):\n",
    "    return pathlib.PurePath(p).parent.parent.name"
   ]
  },
  {
   "cell_type": "code",
   "execution_count": null,
   "id": "4bb41b4c-5eef-43b8-b953-e30dbe05cc22",
   "metadata": {},
   "outputs": [],
   "source": [
    "def path_to_id(p : Path):\n",
    "    cls  = pathlib.PurePath(p).parent.parent.name\n",
    "    id = pathlib.PurePath(p).parent.name\n",
    "    idx = id.rfind('-')\n",
    "    if idx == -1: return (cls,-1)\n",
    "    return (cls,id[idx+1:])"
   ]
  },
  {
   "cell_type": "code",
   "execution_count": null,
   "id": "6df33535-22c3-4d14-9520-71defd8dad8d",
   "metadata": {},
   "outputs": [],
   "source": [
    "path_to_id(fns[203])"
   ]
  },
  {
   "cell_type": "markdown",
   "id": "1d260fbc-9b6a-47c6-90a4-01ca36ee8577",
   "metadata": {},
   "source": [
    "## Adding metadata\n",
    "The deepShip dataset includes metadata as csv files under the class folders `Class/class-metafile` <br>\n",
    "We can read this into pandas dataframes"
   ]
  },
  {
   "cell_type": "code",
   "execution_count": null,
   "id": "e8750fe2-129b-47ae-8ef1-78262098242a",
   "metadata": {},
   "outputs": [],
   "source": [
    "columns=['id', 'class','name', 'date', 'time', 'seconds', 'distance?']\n",
    "df = pd.read_csv(f'{path/classes[0]/classes[0].lower()}-metafile', names=columns, usecols = [0,1,2,3,4,5,6])\n",
    "df['label'] = classes[0]\n",
    "\n",
    "for p in classes[1:]:\n",
    "    newDf = pd.read_csv(f'{path/p/p.lower()}-metafile',names = columns,usecols = [0,1,2,3,4,5,6])\n",
    "    newDf['label'] = p\n",
    "    df = df.append(newDf)"
   ]
  },
  {
   "cell_type": "code",
   "execution_count": null,
   "id": "f0853853-ab00-4f15-aa0b-5df355839772",
   "metadata": {},
   "outputs": [],
   "source": [
    "df.describe()"
   ]
  },
  {
   "cell_type": "markdown",
   "id": "4aa8bf95-b666-4bb5-8069-7cf28e301af5",
   "metadata": {},
   "source": [
    "No we can replace class id with class name, for easier lookup"
   ]
  },
  {
   "cell_type": "code",
   "execution_count": null,
   "id": "64e13886-eaa3-4c58-be78-e506346c66df",
   "metadata": {},
   "outputs": [],
   "source": [
    "df"
   ]
  },
  {
   "cell_type": "code",
   "execution_count": null,
   "id": "cc7bc7c4-580e-45d9-a65a-d5bc90b3cfef",
   "metadata": {},
   "outputs": [],
   "source": [
    "df.to_csv('deepShip.csv', header=True, index=False)"
   ]
  },
  {
   "cell_type": "code",
   "execution_count": null,
   "id": "4303e974-29a2-466f-987d-cfd5a12c1700",
   "metadata": {},
   "outputs": [],
   "source": []
  }
 ],
 "metadata": {
  "kernelspec": {
   "display_name": "Python 3 (ipykernel)",
   "language": "python",
   "name": "python3"
  },
  "language_info": {
   "codemirror_mode": {
    "name": "ipython",
    "version": 3
   },
   "file_extension": ".py",
   "mimetype": "text/x-python",
   "name": "python",
   "nbconvert_exporter": "python",
   "pygments_lexer": "ipython3",
   "version": "3.9.7"
  }
 },
 "nbformat": 4,
 "nbformat_minor": 5
}
